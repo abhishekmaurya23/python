{
 "cells": [
  {
   "cell_type": "code",
   "execution_count": 1,
   "id": "88ed41bc-e688-477d-8ebf-637b07c5636c",
   "metadata": {},
   "outputs": [],
   "source": [
    "#ans1:-\n",
    "#The keyword used to create a function in Python is \"def\".\n",
    "def get_odd_numbers():\n",
    "    odd_numbers = []\n",
    "    for i in range(1, 26):\n",
    "        if i % 2 == 1:\n",
    "            odd_numbers.append(i)\n",
    "    return odd_numbers\n"
   ]
  },
  {
   "cell_type": "code",
   "execution_count": 3,
   "id": "7d228c63-cebb-4545-b979-b960827d8b2a",
   "metadata": {},
   "outputs": [
    {
     "data": {
      "text/plain": [
       "[1, 3, 5, 7, 9, 11, 13, 15, 17, 19, 21, 23, 25]"
      ]
     },
     "execution_count": 3,
     "metadata": {},
     "output_type": "execute_result"
    }
   ],
   "source": [
    " get_odd_numbers()"
   ]
  },
  {
   "cell_type": "code",
   "execution_count": 10,
   "id": "004af80d-04d7-46a9-9395-c640da22db19",
   "metadata": {},
   "outputs": [],
   "source": [
    "#ans2\n",
    "#   *args and **kwargs are used in Python functions to pass a variable number of arguments to the function.\n",
    "#   *args\n",
    "def my_function(*args):\n",
    "    for arg in args:\n",
    "        print(arg)\n"
   ]
  },
  {
   "cell_type": "code",
   "execution_count": 11,
   "id": "b7fc2db7-7387-45b7-99c4-09abf183667a",
   "metadata": {},
   "outputs": [
    {
     "name": "stdout",
     "output_type": "stream",
     "text": [
      "1\n",
      "2\n",
      "3\n",
      "4\n"
     ]
    }
   ],
   "source": [
    "my_function(1, 2, 3, 4)"
   ]
  },
  {
   "cell_type": "code",
   "execution_count": 12,
   "id": "52a7b86d-4df3-48e4-a594-b458242f718c",
   "metadata": {},
   "outputs": [],
   "source": [
    "#**kwargs\n",
    "def my_function(**kwargs):\n",
    "    for key, value in kwargs.items():\n",
    "        print(f\"{key}: {value}\")\n"
   ]
  },
  {
   "cell_type": "code",
   "execution_count": 13,
   "id": "af64793e-78ce-40c3-924d-ed0fcdeacb21",
   "metadata": {},
   "outputs": [
    {
     "name": "stdout",
     "output_type": "stream",
     "text": [
      "name: John\n",
      "age: 30\n",
      "city: New York\n"
     ]
    }
   ],
   "source": [
    "my_function(name='John', age=30, city='New York')"
   ]
  },
  {
   "cell_type": "code",
   "execution_count": 15,
   "id": "48861390-256a-43a5-8959-80f95d088959",
   "metadata": {},
   "outputs": [
    {
     "name": "stdout",
     "output_type": "stream",
     "text": [
      "2\n",
      "4\n",
      "6\n",
      "8\n",
      "10\n"
     ]
    }
   ],
   "source": [
    "#ans3\n",
    "#In Python, an iterator is an object that allows us to iterate over a sequence of values. It provides a way to access the elements of a container (e.g. list, tuple, dictionary) one at a time, without having to know the internal details of how the container is implemented.\n",
    "#Here's an example code to print the first five elements of the given list [2, 4, 6, 8, 10, 12, 14, 16, 18, 20] using an iterator:\n",
    "my_list = [2, 4, 6, 8, 10, 12, 14, 16, 18, 20]\n",
    "\n",
    "# Initialize the iterator object\n",
    "my_iterator = iter(my_list)\n",
    "# Iterate over the first five elements of the list\n",
    "for i in range(5):\n",
    "    element = next(my_iterator)\n",
    "    print(element)\n"
   ]
  },
  {
   "cell_type": "code",
   "execution_count": 22,
   "id": "cd3afbbc-30da-49b2-bad5-833577e099a9",
   "metadata": {},
   "outputs": [],
   "source": [
    "#ans4\n",
    "#A generator function in Python is a type of function that behaves like an iterator. It allows us to generate a sequence of values on-the-fly, without having to create the entire sequence in memory upfront. This makes it very memory-efficient, especially when dealing with large sequences\n",
    "#Here's an example of a generator function that generates the first n Fibonacci numbers:def fibonacci(n):\n",
    "#The yield keyword is used to return a value from the generator function and suspend its execution. When the generator is iterated over, the function is resumed from where it left off, and continues executing until the next yield statement is reached. This process continues until the end of the function is reached, at which point the generator stops iterating.\n",
    "def even_numbers():\n",
    "    i = 0\n",
    "    while True:\n",
    "        yield i\n",
    "        i += 2\n"
   ]
  },
  {
   "cell_type": "code",
   "execution_count": 23,
   "id": "4e3762b8-2f3e-450b-940a-2351c7240824",
   "metadata": {},
   "outputs": [
    {
     "name": "stdout",
     "output_type": "stream",
     "text": [
      "0\n",
      "2\n",
      "4\n",
      "6\n",
      "8\n",
      "10\n",
      "12\n",
      "14\n",
      "16\n",
      "18\n"
     ]
    }
   ],
   "source": [
    "even = even_numbers()\n",
    "for i in range(10):\n",
    "    print(next(even))\n"
   ]
  },
  {
   "cell_type": "code",
   "execution_count": 24,
   "id": "657fb84c-03e2-4f54-8a4c-ded8973406e0",
   "metadata": {},
   "outputs": [],
   "source": [
    "#ans5\n",
    "def primes():\n",
    "    yield 2\n",
    "    primes_list = [2]\n",
    "    n = 3\n",
    "    while n < 1000:\n",
    "        is_prime = True\n",
    "        for prime in primes_list:\n",
    "            if prime * prime > n:\n",
    "                break\n",
    "            if n % prime == 0:\n",
    "                is_prime = False\n",
    "                break\n",
    "        if is_prime:\n",
    "            primes_list.append(n)\n",
    "            yield n\n",
    "        n += 2\n"
   ]
  },
  {
   "cell_type": "code",
   "execution_count": 25,
   "id": "094b1734-39fe-4f52-85dc-c95176dbe17a",
   "metadata": {},
   "outputs": [
    {
     "name": "stdout",
     "output_type": "stream",
     "text": [
      "2\n",
      "3\n",
      "5\n",
      "7\n",
      "11\n",
      "13\n",
      "17\n",
      "19\n",
      "23\n",
      "29\n",
      "31\n",
      "37\n",
      "41\n",
      "43\n",
      "47\n",
      "53\n",
      "59\n",
      "61\n",
      "67\n",
      "71\n"
     ]
    }
   ],
   "source": [
    "prime_gen = primes()\n",
    "for i in range(20):\n",
    "    print(next(prime_gen))\n"
   ]
  },
  {
   "cell_type": "code",
   "execution_count": 26,
   "id": "d549f214-efc5-439a-ba72-95d2442d9c0c",
   "metadata": {},
   "outputs": [
    {
     "name": "stdout",
     "output_type": "stream",
     "text": [
      "0 1 1 2 3 5 8 13 21 34 "
     ]
    }
   ],
   "source": [
    "#ans6\n",
    "a, b = 0, 1\n",
    "count = 0\n",
    "\n",
    "while count < 10:\n",
    "    print(a, end=' ')\n",
    "    c = a + b\n",
    "    a, b = b, c\n",
    "    count += 1\n"
   ]
  },
  {
   "cell_type": "code",
   "execution_count": 28,
   "id": "0134a8e2-3179-4e83-8152-8396e4882f2b",
   "metadata": {},
   "outputs": [
    {
     "name": "stdout",
     "output_type": "stream",
     "text": [
      "['p', 'w', 's', 'k', 'i', 'l', 'l', 's']\n"
     ]
    }
   ],
   "source": [
    "#ans7\n",
    "string = 'pwskills'\n",
    "characters = [char for char in string]\n",
    "print(characters)\n",
    "\n"
   ]
  },
  {
   "cell_type": "code",
   "execution_count": 31,
   "id": "dd9d349a-3009-4686-bdcc-8e9d5322b917",
   "metadata": {},
   "outputs": [
    {
     "name": "stdin",
     "output_type": "stream",
     "text": [
      "Enter a number:  98789\n"
     ]
    },
    {
     "name": "stdout",
     "output_type": "stream",
     "text": [
      "98789 is a palindrome number\n"
     ]
    }
   ],
   "source": [
    "#ans8\n",
    "number = int(input(\"Enter a number: \"))\n",
    "temp = number\n",
    "reverse = 0\n",
    "\n",
    "while temp > 0:\n",
    "    digit = temp % 10\n",
    "    reverse = (reverse * 10) + digit\n",
    "    temp //= 10\n",
    "\n",
    "if number == reverse:\n",
    "    print(number, \"is a palindrome number\")\n",
    "else:\n",
    "    print(number, \"is not a palindrome number\")\n"
   ]
  },
  {
   "cell_type": "code",
   "execution_count": 32,
   "id": "b4968ad6-de43-4db2-b38d-d59ef189e130",
   "metadata": {},
   "outputs": [
    {
     "name": "stdout",
     "output_type": "stream",
     "text": [
      "[1, 3, 5, 7, 9, 11, 13, 15, 17, 19, 21, 23, 25, 27, 29, 31, 33, 35, 37, 39, 41, 43, 45, 47, 49, 51, 53, 55, 57, 59, 61, 63, 65, 67, 69, 71, 73, 75, 77, 79, 81, 83, 85, 87, 89, 91, 93, 95, 97, 99]\n"
     ]
    }
   ],
   "source": [
    "#ans9\n",
    "odd_numbers = [num for num in range(1, 101) if num % 2 != 0]\n",
    "print(odd_numbers)\n"
   ]
  },
  {
   "cell_type": "code",
   "execution_count": null,
   "id": "55a38fd4-1112-47c2-92a8-d4ba62258b01",
   "metadata": {},
   "outputs": [],
   "source": []
  }
 ],
 "metadata": {
  "kernelspec": {
   "display_name": "Python 3 (ipykernel)",
   "language": "python",
   "name": "python3"
  },
  "language_info": {
   "codemirror_mode": {
    "name": "ipython",
    "version": 3
   },
   "file_extension": ".py",
   "mimetype": "text/x-python",
   "name": "python",
   "nbconvert_exporter": "python",
   "pygments_lexer": "ipython3",
   "version": "3.10.6"
  }
 },
 "nbformat": 4,
 "nbformat_minor": 5
}
